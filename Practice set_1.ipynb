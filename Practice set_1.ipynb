{
 "cells": [
  {
   "cell_type": "markdown",
   "id": "67a0b8a7-84fa-4110-87f2-a2c335cdcf37",
   "metadata": {},
   "source": [
    "# Q1. Write a Python program that defines a function called \"add_numbers\" that takes two arguments (i.e., numbers) and returns their sum. Within the function, add the two numbers together and return the result using the return statement. Call the function with the values 5 and 6, and print out the returned result. This will result in the addition of 5 and 6, with the output of the program being the sum of these two numbers."
   ]
  },
  {
   "cell_type": "code",
   "execution_count": 10,
   "id": "046bb2e8-7389-4395-8d0a-7fe10151cb99",
   "metadata": {},
   "outputs": [
    {
     "name": "stdout",
     "output_type": "stream",
     "text": [
      "11\n"
     ]
    }
   ],
   "source": [
    "def add_numbers(num1 , num2):\n",
    "   \n",
    "    sum = num1 + num2\n",
    "    \n",
    "    return sum\n",
    "result = add_numbers(5,6)\n",
    "print(result)\n",
    "    "
   ]
  },
  {
   "cell_type": "markdown",
   "id": "fe44d33e-9419-464f-9c98-f3f8ebfb35ae",
   "metadata": {},
   "source": [
    "# Q2. Write a Python program that calculates the square root of a given number using a built-in function. Specifically, the program should take an integer or float input from the user, calculate its square root using the 'sqrt()' function from the 'math' module, and print out the result to the user. As an example, calculate the square root of the number 625 using this program, which should output the value of 25."
   ]
  },
  {
   "cell_type": "code",
   "execution_count": 18,
   "id": "8b0c42cc-a67d-42a8-ae94-bf444849d321",
   "metadata": {},
   "outputs": [
    {
     "name": "stdin",
     "output_type": "stream",
     "text": [
      "Enter a number:  256\n"
     ]
    },
    {
     "name": "stdout",
     "output_type": "stream",
     "text": [
      "16.0\n"
     ]
    }
   ],
   "source": [
    "import math \n",
    "number = float(input(\"Enter a number: \"))\n",
    "result = math.sqrt(number)\n",
    "print(result)"
   ]
  },
  {
   "cell_type": "markdown",
   "id": "e2c42200-66af-48e6-9a18-faaae38c12a6",
   "metadata": {},
   "source": [
    "# Q3.Write a program that prints all prime numbers between 0 to 50."
   ]
  },
  {
   "cell_type": "code",
   "execution_count": 26,
   "id": "c5f727f4-9582-4f78-9033-9be32af35b77",
   "metadata": {},
   "outputs": [
    {
     "name": "stdout",
     "output_type": "stream",
     "text": [
      "2 3 5 7 11 13 17 19 23 29 31 37 41 43 47 "
     ]
    }
   ],
   "source": [
    "\n",
    "def is_prime(n):\n",
    "    if n < 2:\n",
    "        return False\n",
    "    for i in range(2, int(n ** 0.5) + 1):\n",
    "        if n % i == 0:\n",
    "            return False\n",
    "        \n",
    "    \n",
    "    return True\n",
    "\n",
    "for i in range(0, 51):\n",
    "    if is_prime(i):\n",
    "        print(i, end=\" \")\n"
   ]
  },
  {
   "cell_type": "markdown",
   "id": "d7bbbf50-8669-4e24-b36e-704292495db8",
   "metadata": {},
   "source": [
    "# Q4.How can we swap the values of three variables (let's say a, b, and c) without using a fourth variable? For example, if we have a=5, b=8, and c=9, how can we obtain a=9, b=5, and c=8? The challenge is to perform this operation without using an additional variable to store any of the values during the swapping process."
   ]
  },
  {
   "cell_type": "code",
   "execution_count": 29,
   "id": "78e637f2-4fbf-4d9c-ac3d-dcafb5b1a321",
   "metadata": {},
   "outputs": [
    {
     "name": "stdout",
     "output_type": "stream",
     "text": [
      "a =  9\n",
      "b =  5\n",
      "c =  8\n"
     ]
    }
   ],
   "source": [
    "a, b, c = 5, 8, 9\n",
    "a, b, c = c, a, b\n",
    "print(\"a = \", a)\n",
    "print(\"b = \", b)\n",
    "print(\"c = \", c)\n"
   ]
  },
  {
   "cell_type": "markdown",
   "id": "af12bf55-70e4-4507-82da-869e329d9316",
   "metadata": {},
   "source": [
    "# Q5. Can you write a program that determines the nature of a given number (in this case, 87) as being positive, negative, or zero? The program should be designed to take the number as input and perform the necessary calculations to determine if the number is positive (i.e., greater than zero), negative (i.e., less than zero), or zero (i.e., equal to zero). The output of the program should indicate which of these three categories the given number falls into."
   ]
  },
  {
   "cell_type": "code",
   "execution_count": 33,
   "id": "f86b6c18-a890-4ee9-b966-21633cd9b881",
   "metadata": {},
   "outputs": [
    {
     "name": "stdin",
     "output_type": "stream",
     "text": [
      "Enter the number:  -.564\n"
     ]
    },
    {
     "name": "stdout",
     "output_type": "stream",
     "text": [
      "-0.564 is negative\n"
     ]
    }
   ],
   "source": [
    "number = float(input(\"Enter the number: \"))\n",
    "if number > 0:\n",
    "    print(number ,  'is positive')\n",
    "elif number < 0:\n",
    "    print (number ,'is negative')\n",
    "else:\n",
    "    print(number , 'is zero')"
   ]
  },
  {
   "cell_type": "markdown",
   "id": "ee14797d-f90e-4348-b611-2cc1e2e7f702",
   "metadata": {},
   "source": [
    "# Q6. How can you create a program that determines whether a given number (in this case, 98) is even or odd? The program should be designed to take the number as input and perform the necessary calculations to determine whether it is divisible by two. If the number is divisible by two without leaving a remainder, it is an even number, and if there is a remainder, it is an odd number. The output of the program should indicate whether the given number is even or odd."
   ]
  },
  {
   "cell_type": "code",
   "execution_count": 4,
   "id": "a3dd154b-e4f6-42f4-aabb-c0b77a94323d",
   "metadata": {},
   "outputs": [
    {
     "name": "stdin",
     "output_type": "stream",
     "text": [
      "Enter the number:  0220\n"
     ]
    },
    {
     "name": "stdout",
     "output_type": "stream",
     "text": [
      "220.0 is even\n"
     ]
    }
   ],
   "source": [
    "num = float(input('Enter the number: '))\n",
    "if num%2 == 0:\n",
    "    print(num, 'is even')\n",
    "else:\n",
    "    print(num, 'is odd')"
   ]
  },
  {
   "cell_type": "markdown",
   "id": "e8cca828-2c01-4488-9517-c048b5d6d3d2",
   "metadata": {},
   "source": [
    "# Q7.Write a program for sum of digits.the digits are 76543 and the output should be 25."
   ]
  },
  {
   "cell_type": "code",
   "execution_count": 7,
   "id": "26935fa9-adde-42c7-9224-445fe59b859c",
   "metadata": {},
   "outputs": [
    {
     "name": "stdout",
     "output_type": "stream",
     "text": [
      "The sum of the digits in the number is: 25\n"
     ]
    }
   ],
   "source": [
    "# define the number\n",
    "num = 76543\n",
    "\n",
    "# initialize the sum\n",
    "sum = 0\n",
    "\n",
    "# loop through each digit in the number\n",
    "while num > 0:\n",
    "    # add the last digit to the sum\n",
    "    sum += num % 10\n",
    "    \n",
    "    # remove the last digit from the number\n",
    "    num //= 10\n",
    "\n",
    "# print the sum of the digits\n",
    "print(\"The sum of the digits in the number is:\", sum)\n"
   ]
  },
  {
   "cell_type": "markdown",
   "id": "60b41c02-d464-40bd-be78-a09b1c6497bc",
   "metadata": {},
   "source": [
    "# Q8.Write a program for reversing the given number 5436 and the output should be 6345."
   ]
  },
  {
   "cell_type": "code",
   "execution_count": 16,
   "id": "59f7b862-f5e8-48ed-a411-c27ea7f2068d",
   "metadata": {},
   "outputs": [
    {
     "name": "stdout",
     "output_type": "stream",
     "text": [
      "The reversed number is: 6345\n"
     ]
    }
   ],
   "source": [
    "# define the number\n",
    "num = 5436\n",
    "\n",
    "# convert number to string\n",
    "num_str = str(num)\n",
    "\n",
    "# reverse the string\n",
    "num_str_reversed = num_str[::-1]\n",
    "\n",
    "# convert the reversed string back to an integer\n",
    "num_reversed = int(num_str_reversed)\n",
    "\n",
    "# print the reversed number\n",
    "print(\"The reversed number is:\", num_reversed)\n"
   ]
  },
  {
   "cell_type": "markdown",
   "id": "26c58edd-d82a-4e60-b6da-75ba22e8f725",
   "metadata": {},
   "source": [
    "# Q9.Write a program to check if a given number 371 is an Armstrong number?"
   ]
  },
  {
   "cell_type": "code",
   "execution_count": 17,
   "id": "c85ab6a1-d657-4012-b6e9-61c9e9f9017a",
   "metadata": {},
   "outputs": [
    {
     "name": "stdout",
     "output_type": "stream",
     "text": [
      "0 is not an Armstrong number\n"
     ]
    }
   ],
   "source": [
    "# define the number\n",
    "num = 371\n",
    "\n",
    "# initialize variables\n",
    "sum = 0\n",
    "order = len(str(num))\n",
    "\n",
    "# calculate the sum of the cube of each digit\n",
    "\n",
    "while num > 0:\n",
    "    digit = num % 10\n",
    "    sum += digit ** order\n",
    "    num //= 10\n",
    "\n",
    "# check if the number is equal to the sum of the cube of each digit\n",
    "if num == sum:\n",
    "    print(num, \"is an Armstrong number\")\n",
    "else:\n",
    "    print(num, \"is not an Armstrong number\")\n"
   ]
  },
  {
   "cell_type": "markdown",
   "id": "1d7fab5f-9d63-4f4c-85c1-9598d125378a",
   "metadata": {},
   "source": [
    "# Q10.Write a program the given year is 1996, a leap year."
   ]
  },
  {
   "cell_type": "code",
   "execution_count": 14,
   "id": "91c2d5d6-9c47-4778-846c-40cda53753d2",
   "metadata": {},
   "outputs": [
    {
     "name": "stdout",
     "output_type": "stream",
     "text": [
      "1996 is a leap year\n"
     ]
    }
   ],
   "source": [
    "year = 1996\n",
    "\n",
    "if year % 4 == 0:\n",
    "    if year % 100 == 0:\n",
    "        if year % 400 == 0:\n",
    "            print(year, \"is a leap year\")\n",
    "        else:\n",
    "            print(year, \"is not a leap year\")\n",
    "    else:\n",
    "        print(year, \"is a leap year\")\n",
    "else:\n",
    "    print(year, \"is not a leap year\")\n"
   ]
  },
  {
   "cell_type": "code",
   "execution_count": null,
   "id": "7d516139-3f2e-4b34-a41c-bf17586da285",
   "metadata": {},
   "outputs": [],
   "source": []
  }
 ],
 "metadata": {
  "kernelspec": {
   "display_name": "Python 3 (ipykernel)",
   "language": "python",
   "name": "python3"
  },
  "language_info": {
   "codemirror_mode": {
    "name": "ipython",
    "version": 3
   },
   "file_extension": ".py",
   "mimetype": "text/x-python",
   "name": "python",
   "nbconvert_exporter": "python",
   "pygments_lexer": "ipython3",
   "version": "3.10.8"
  }
 },
 "nbformat": 4,
 "nbformat_minor": 5
}
